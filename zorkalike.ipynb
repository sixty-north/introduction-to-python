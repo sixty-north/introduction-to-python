{
 "cells": [
  {
   "cell_type": "code",
   "execution_count": null,
   "metadata": {},
   "outputs": [],
   "source": [
    "class Player:\n",
    "    def __init__(self):\n",
    "        self.inventory = {}\n",
    "        self.alive = True\n",
    "    \n",
    "    def __repr__(self):\n",
    "        return 'Player(alive={}, inventory={})'.format(self.alive, self.inventory)"
   ]
  },
  {
   "cell_type": "code",
   "execution_count": null,
   "metadata": {},
   "outputs": [],
   "source": [
    "from abc import ABC, abstractmethod\n",
    "\n",
    "class Room:\n",
    "    def __init__(self,\n",
    "                 contents=None):\n",
    "        self.doors = {}\n",
    "        self.contents = dict(contents) if contents else None\n",
    "\n",
    "    def process_command(self, command, player):\n",
    "        \"\"\"Process room-specific commands.\n",
    "        \"\"\"\n",
    "        return False\n",
    "    \n",
    "    @property\n",
    "    @abstractmethod\n",
    "    def description(self):\n",
    "        pass"
   ]
  },
  {
   "cell_type": "code",
   "execution_count": null,
   "metadata": {},
   "outputs": [],
   "source": [
    "class StaticRoom(Room):\n",
    "    \"\"\"A room with a static description\"\"\"\n",
    "    def __init__(self, description, *args, **kwargs):\n",
    "        super().__init__(*args, **kwargs)\n",
    "        self._description = description\n",
    "        \n",
    "    @property\n",
    "    def description(self):\n",
    "        return self._description"
   ]
  },
  {
   "cell_type": "code",
   "execution_count": null,
   "metadata": {},
   "outputs": [],
   "source": [
    "class LlamaRoom(Room):\n",
    "    \"\"\"This is a subclass of Room which contains some llamas.\n",
    "    \"\"\"\n",
    "    def __init__(self, count):\n",
    "        super(LlamaRoom, self).__init__(\n",
    "            contents={'llama': count})\n",
    "\n",
    "    @property\n",
    "    def description(self):\n",
    "        return 'This room is filled with {} serene llamas.'.format(\n",
    "            self.contents['llama'])\n",
    "\n",
    "    def process_command(self, command, player):\n",
    "        if command == 'pet llama':\n",
    "            if self.contents['llama'] < 1:\n",
    "                print('Unfortunately there are no llamas to pet.')\n",
    "            else:\n",
    "                print('The llama looks pleased and then gallops off, its mission in this dimension completed.')\n",
    "                self.contents['llama'] -= 1\n",
    "            return True\n",
    "\n",
    "        return False"
   ]
  },
  {
   "cell_type": "code",
   "execution_count": null,
   "metadata": {},
   "outputs": [],
   "source": [
    "class BearRoom(StaticRoom):\n",
    "    \"\"\"A room containing a bear.\n",
    "    \"\"\"\n",
    "    def __init__(self):\n",
    "        super(BearRoom, self).__init__(\n",
    "            description='This rooms contains a grumpy looking bear.',\n",
    "            contents={'bear': 1})\n",
    "\n",
    "    def process_command(self, command, player):\n",
    "        if command == 'pet bear':\n",
    "            print('The bear is not impressed and re-enacts \"The Revenant\" on you.')\n",
    "            player.alive = False\n",
    "            return True\n",
    "        return False"
   ]
  },
  {
   "cell_type": "code",
   "execution_count": null,
   "metadata": {},
   "outputs": [],
   "source": [
    "class Game:\n",
    "    def __init__(self, current_room, player):\n",
    "        self.current_room = current_room\n",
    "        self.player = player"
   ]
  },
  {
   "cell_type": "code",
   "execution_count": null,
   "metadata": {},
   "outputs": [],
   "source": [
    "from enum import Enum\n",
    "\n",
    "class Direction(Enum):\n",
    "    North = 'north'\n",
    "    South = 'south'\n",
    "    East = 'east'\n",
    "    West = 'west'"
   ]
  },
  {
   "cell_type": "code",
   "execution_count": null,
   "metadata": {},
   "outputs": [],
   "source": [
    "from itertools import chain, permutations\n",
    "\n",
    "DIRECTIONS = {\n",
    "    from_dir: start_dir\n",
    "    for from_dir, start_dir\n",
    "    in chain(permutations((Direction.North, Direction.South)), \n",
    "             permutations((Direction.East, Direction.West)))\n",
    "}\n",
    "\n",
    "def connect(room_from: Room, room_to: Room, dir_from: Direction):\n",
    "    dir_to = DIRECTIONS[dir_from]\n",
    "\n",
    "    if room_from.doors.get(dir_from) is not None:\n",
    "        raise ValueError(\n",
    "            'The {} door in {} is already assigned'.format(\n",
    "                dir_from.value, room_from))\n",
    "    if room_to.doors.get(dir_to) is not None:\n",
    "        raise ValueError(\n",
    "            'The {} door in {} is already assigned'.format(\n",
    "                dir_from.value, room_from))\n",
    "        \n",
    "    room_from.doors[dir_from] = room_to\n",
    "    room_to.doors[dir_to] = room_from"
   ]
  },
  {
   "cell_type": "code",
   "execution_count": null,
   "metadata": {},
   "outputs": [],
   "source": [
    "def make_game():\n",
    "    \"\"\"Construct a game object.\n",
    "    \"\"\"\n",
    "    start_room = StaticRoom('You are in a dark room.')\n",
    "    llama_room = LlamaRoom(42)\n",
    "    bear_room = BearRoom()\n",
    "\n",
    "    connect(start_room, llama_room, Direction.North)\n",
    "    connect(start_room, bear_room, Direction.East)\n",
    "\n",
    "    game = Game(start_room, Player())\n",
    "    return game"
   ]
  },
  {
   "cell_type": "code",
   "execution_count": null,
   "metadata": {},
   "outputs": [],
   "source": [
    "def process_standard_commands(command, game):\n",
    "    \"\"\"Process commands which are common to all rooms.\n",
    "\n",
    "    This includes things like following directions, checking inventory, exiting\n",
    "    the game, etc.\n",
    "\n",
    "    Returns true if the command is recognized and processed. Otherwise, returns\n",
    "    false.\n",
    "\n",
    "    \"\"\"\n",
    "    if command in (d.value for d in game.current_room.doors):\n",
    "        room = game.current_room.doors[Direction(command)]\n",
    "        game.current_room = room\n",
    "    elif command in (d.value for d in Direction):\n",
    "        print('There is no door to the {}'.format(command))\n",
    "    elif command == 'description':\n",
    "        print(game.current_room.description)\n",
    "    elif command == 'inventory':\n",
    "        print('Inventory %s' % game.player.inventory)\n",
    "    elif command == 'quit':\n",
    "        game.player.alive = False\n",
    "    else:\n",
    "        # unrecognized command\n",
    "        return False\n",
    "\n",
    "    return True"
   ]
  },
  {
   "cell_type": "code",
   "execution_count": null,
   "metadata": {},
   "outputs": [],
   "source": [
    "def print_room_details(room):\n",
    "    \"\"\"Print the details of the current room.\n",
    "    \"\"\"\n",
    "    print(room.description)\n",
    "    for direction in room.doors:\n",
    "        print('There is a door to the {}'.format(direction.value))"
   ]
  },
  {
   "cell_type": "code",
   "execution_count": null,
   "metadata": {},
   "outputs": [],
   "source": [
    "def main_loop(game):\n",
    "    \"\"\"Process commands from the user until they die.\n",
    "    \"\"\"\n",
    "    while True:\n",
    "        if not game.player.alive:\n",
    "            print('You are dead.')\n",
    "            return\n",
    "\n",
    "        print('')\n",
    "        print_room_details(game.current_room)\n",
    "        command = input('> ')\n",
    "        handled = process_standard_commands(command, game) \\\n",
    "            or game.current_room.process_command(command, game.player)\n",
    "        if not handled:\n",
    "            print('unrecognized command!')"
   ]
  },
  {
   "cell_type": "code",
   "execution_count": null,
   "metadata": {},
   "outputs": [],
   "source": [
    "main_loop(make_game())"
   ]
  },
  {
   "cell_type": "code",
   "execution_count": null,
   "metadata": {},
   "outputs": [],
   "source": []
  }
 ],
 "metadata": {
  "kernelspec": {
   "display_name": "Python 3",
   "language": "python",
   "name": "python3"
  },
  "language_info": {
   "codemirror_mode": {
    "name": "ipython",
    "version": 3
   },
   "file_extension": ".py",
   "mimetype": "text/x-python",
   "name": "python",
   "nbconvert_exporter": "python",
   "pygments_lexer": "ipython3",
   "version": "3.6.3"
  }
 },
 "nbformat": 4,
 "nbformat_minor": 2
}
