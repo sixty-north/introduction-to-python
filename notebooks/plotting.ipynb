{
 "cells": [
  {
   "cell_type": "markdown",
   "metadata": {},
   "source": [
    "# Plotting with Matplotlib\n",
    "\n",
    "Python has great libraries for scientific plotting, the most important of which is [`matplotlib`](https://matplotlib.org/). Let's use it to examine voting patterns in Stavanger!"
   ]
  },
  {
   "cell_type": "markdown",
   "metadata": {},
   "source": [
    "## Getting some data"
   ]
  },
  {
   "cell_type": "code",
   "execution_count": null,
   "metadata": {},
   "outputs": [],
   "source": [
    "import csv\n",
    "from io import StringIO\n",
    "from itertools import chain, islice\n",
    "from urllib.request import urlopen\n",
    "import matplotlib.pyplot as plt\n",
    "import numpy\n",
    "\n",
    "url = 'https://opencom.no/dataset/d93c7128-2e18-4513-9724-7a60d49b206c/resource/5a73e65e-140c-4137-bbc5-6decebaac879/download/ssbdata.csv'\n",
    "\n",
    "# Get data shaped like:\n",
    "# { region-name: {party-name: percent } }\n",
    "\n",
    "with urlopen(url) as handle:\n",
    "    csv_data = StringIO(handle.read().decode('utf-8'))\n",
    "    csv_data.seek(0)\n",
    "    reader = csv.reader(csv_data, delimiter=',')\n",
    "    data = {}\n",
    "    for region, party, percent in islice(reader, 1, None):\n",
    "        try:\n",
    "            data.setdefault(region, {})[party] = float(percent)\n",
    "        except ValueError:\n",
    "            # Probably just the \".\" null-values markers in the percent data\n",
    "            pass\n",
    "        \n",
    "all_parties = sorted(set(chain(*(rset for rset in data.values()))))"
   ]
  },
  {
   "cell_type": "markdown",
   "metadata": {},
   "source": [
    "## How did people in my neighborhood vote?"
   ]
  },
  {
   "cell_type": "code",
   "execution_count": null,
   "metadata": {},
   "outputs": [],
   "source": [
    "fig, ax = plt.subplots(dpi=150)\n",
    "\n",
    "kvaleberg = data['Kvaleberg']\n",
    "parties, percents = tuple(zip(*kvaleberg.items()))\n",
    "_ = ax.pie(percents, labels=parties)"
   ]
  },
  {
   "cell_type": "markdown",
   "metadata": {},
   "source": [
    "## How did the islands vote?\n",
    "\n",
    "### By party"
   ]
  },
  {
   "cell_type": "code",
   "execution_count": null,
   "metadata": {},
   "outputs": [],
   "source": [
    "islands = tuple(region for region in data if 'øy' in region.lower())\n",
    "\n",
    "island_data = [\n",
    "    (region, [rset.get(party, 0) \n",
    "              for party \n",
    "              in all_parties])\n",
    "    for region, rset\n",
    "    in data.items()\n",
    "    if region in islands\n",
    "]\n",
    "\n",
    "x = numpy.array(range(len(all_parties)), dtype='float64')\n",
    "width = 0.2\n",
    "\n",
    "fig, ax = plt.subplots(dpi=150)\n",
    "for index, (region, percents) in enumerate(island_data):\n",
    "    ax.bar(x + index * width, percents, width=width, label=region)\n",
    "    \n",
    "ax.set_xticks(range(len(all_parties)))\n",
    "ax.set_xticklabels(all_parties)\n",
    "ax.tick_params(axis='x', labelrotation=90)\n",
    "ax.legend()\n",
    "plt.gcf().subplots_adjust(bottom=0.45)"
   ]
  },
  {
   "cell_type": "markdown",
   "metadata": {},
   "source": [
    "### By island"
   ]
  },
  {
   "cell_type": "code",
   "execution_count": null,
   "metadata": {},
   "outputs": [],
   "source": [
    "x = numpy.array(range(len(islands)), dtype='float64')\n",
    "width = 0.08\n",
    "\n",
    "fig, ax = plt.subplots(dpi=150)\n",
    "\n",
    "for index, party in enumerate(all_parties):\n",
    "    percs = [data[region].get(party, 0.0) for region in islands]\n",
    "    ax.bar(x + index * width, percs, width=width, label=party)\n",
    "\n",
    "ax.set_xticks(range(len(islands)))\n",
    "ax.set_xticklabels(islands)\n",
    "ax.legend(loc='center left', bbox_to_anchor=(0.83,0.8), prop={'size': 6})\n",
    "plt.show()"
   ]
  }
 ],
 "metadata": {
  "kernelspec": {
   "display_name": "Python 3",
   "language": "python",
   "name": "python3"
  },
  "language_info": {
   "codemirror_mode": {
    "name": "ipython",
    "version": 3
   },
   "file_extension": ".py",
   "mimetype": "text/x-python",
   "name": "python",
   "nbconvert_exporter": "python",
   "pygments_lexer": "ipython3",
   "version": "3.6.3"
  }
 },
 "nbformat": 4,
 "nbformat_minor": 2
}
